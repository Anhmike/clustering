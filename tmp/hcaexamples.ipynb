{
 "cells": [
  {
   "cell_type": "markdown",
   "metadata": {},
   "source": [
    "# Hierarchical Clustering\n",
    "\n",
    "Hierarchical clustering, also referred to as hierarchical cluster analysis (HCA) is a common algorithm used to group data points with similar attributes. It is able to cluster data using two approaches: agglomerative (bottom-up) and divisive (top-down), shown below.\n",
    "\n",
    "![fig1](../img/hca.png)\n",
    "\n",
    "For the purpose of this notebook we will focus on the agglomerative approach. This method treats all data points as individual clusters initially. Larger clusters are then built by calculating the distance between each data point, merging the two closest each time until the desired number of clusters have been achieved.\n",
    "\n",
    "The kdb+/q implementation of HCA uses euclidean distance metrics and centroid linkage methods to find clusters within data. Additionally, a kd-tree has been used to store the data points, their respective distances and their relative positions in the tree-structure.\n",
    "\n",
    "### Requirements\n",
    "\n",
    "The technical dependencies required to run this notebook are as follows:\n",
    "\n",
    "    - embedPy\n",
    "    - Matplotlib 2.1.1\n",
    "\n",
    "### Load HCA\n",
    "\n",
    "Below loads in the HCA algorithm defined in `hca.q`. The script `kdtree.q` is also used, called within the HCA script. EmbedPy has also been used below to import `matplotlib.pyplot` to visualise the data and resulting clusters."
   ]
  },
  {
   "cell_type": "code",
   "execution_count": 1,
   "metadata": {
    "scrolled": true
   },
   "outputs": [],
   "source": [
    "\\l clust.q\n",
    "\n",
    "plt:.p.import`matplotlib.pyplot"
   ]
  },
  {
   "cell_type": "markdown",
   "metadata": {},
   "source": [
    "### Example 1"
   ]
  },
  {
   "cell_type": "code",
   "execution_count": 2,
   "metadata": {},
   "outputs": [
    {
     "data": {
      "image/png": "[encoded data removed]",
      "text/plain": [
       "<Figure size 460.8x345.6 with 1 Axes>"
      ]
     },
     "metadata": {},
     "output_type": "display_data"
    }
   ],
   "source": [
    "d1:(60#\"F\";\",\")0:`:../data/ss5.csv\n",
    "plt[`:scatter][;]. flip d1;\n",
    "plt[`:show][];"
   ]
  },
  {
   "cell_type": "code",
   "execution_count": 8,
   "metadata": {
    "scrolled": true
   },
   "outputs": [
    {
     "data": {
      "text/plain": [
       "4 13584\n"
      ]
     },
     "execution_count": 8,
     "metadata": {},
     "output_type": "execute_result"
    },
    {
     "data": {
      "text/plain": [
       "0 | 3.487966 2.617258   3.052439 2.939565   2.541804 2.855116   2.993872 2.74..\n",
       "15| 3.468053 -3.205529  3.473971 -2.881551  2.915968 -3.146783  3.287449 -2.8..\n",
       "30| -3.419303 -3.460712 -2.66534  -3.327664 -2.843735 -2.520843 -3.256643 -2...\n",
       "45| -2.946691 3.19919   -3.408824 2.648383  -3.148617 3.378614  -2.563794 2.7..\n"
      ]
     },
     "execution_count": 8,
     "metadata": {},
     "output_type": "execute_result"
    },
    {
     "data": {
      "text/plain": [
       "0 | {[f;x]embedPy[f;x]}[foreign]enlist\n",
       "15| {[f;x]embedPy[f;x]}[foreign]enlist\n",
       "30| {[f;x]embedPy[f;x]}[foreign]enlist\n",
       "45| {[f;x]embedPy[f;x]}[foreign]enlist\n"
      ]
     },
     "execution_count": 8,
     "metadata": {},
     "output_type": "execute_result"
    },
    {
     "data": {
      "image/png": "[encoded data removed]",
      "text/plain": [
       "<Figure size 460.8x345.6 with 1 Axes>"
      ]
     },
     "metadata": {},
     "output_type": "display_data"
    }
   ],
   "source": [
    "\\l clust.q\n",
    "\\ts r1:.clust.hc[d1;4;`edist;`ward]\n",
    "d1 exec ind by clt from r1 \n",
    "{plt[`:scatter][;]. flip x}each d1 exec ind by clt from r1 \n",
    "plt[`:show][];"
   ]
  },
  {
   "cell_type": "markdown",
   "metadata": {},
   "source": [
    "### Example 2"
   ]
  },
  {
   "cell_type": "code",
   "execution_count": 9,
   "metadata": {},
   "outputs": [
    {
     "data": {
      "image/png": "[encoded data removed]",
      "text/plain": [
       "<Figure size 460.8x345.6 with 1 Axes>"
      ]
     },
     "metadata": {},
     "output_type": "display_data"
    }
   ],
   "source": [
    "d2:(\"SSFFF\";(),\",\")0:`:../data/cust.csv\n",
    "d2:flip d2`Income`SpendingScore\n",
    "plt[`:scatter][;]. flip d2;\n",
    "plt[`:show][];"
   ]
  },
  {
   "cell_type": "code",
   "execution_count": 9,
   "metadata": {},
   "outputs": [
    {
     "data": {
      "text/plain": [
       "36 43296\n"
      ]
     },
     "execution_count": 10,
     "metadata": {},
     "output_type": "execute_result"
    },
    {
     "data": {
      "text/plain": [
       "ind rep               clt nni nnd    \n",
       "-------------------------------------\n",
       "0   48.07843 43.60784 0   1   43.0823\n",
       "1   25.09524 80.04762 1   0   43.0823\n",
       "2   48.07843 43.60784 0   1   43.0823\n",
       "3   25.09524 80.04762 1   0   43.0823\n",
       "4   48.07843 43.60784 0   1   43.0823\n",
       "5   25.09524 80.04762 1   0   43.0823\n",
       "6   48.07843 43.60784 0   1   43.0823\n",
       "7   25.09524 80.04762 1   0   43.0823\n",
       "8   48.07843 43.60784 0   1   43.0823\n",
       "9   25.09524 80.04762 1   0   43.0823\n",
       "10  48.07843 43.60784 0   1   43.0823\n",
       "11  25.09524 80.04762 1   0   43.0823\n",
       "12  48.07843 43.60784 0   1   43.0823\n",
       "13  25.09524 80.04762 1   0   43.0823\n",
       "14  48.07843 43.60784 0   1   43.0823\n",
       "15  25.09524 80.04762 1   0   43.0823\n",
       "16  48.07843 43.60784 0   1   43.0823\n",
       "17  25.09524 80.04762 1   0   43.0823\n",
       "18  48.07843 43.60784 0   1   43.0823\n",
       "19  25.09524 80.04762 1   0   43.0823\n",
       "..\n"
      ]
     },
     "execution_count": 10,
     "metadata": {},
     "output_type": "execute_result"
    },
    {
     "ename": "\u001b[0;31mcall: float() argument must be a string or a number, not 'dict'\u001b[0m",
     "evalue": "\u001b[0;31mcall: float() argument must be a string or a number, not 'dict'\u001b[0m",
     "output_type": "error",
     "traceback": [
      "\u001b[0;31mevaluation error:\n\u001b[0m",
      "\u001b[0;31mcall: float() argument must be a string or a number, not 'dict'\u001b[0m",
      "\u001b[0;31m\u001b[0m",
      "\u001b[0;31m  [4]  /home/mlteam/q/p.q:31: .p.embedPy:\n        '`NYI];\n      wrap pyfunc[f]. x];\n                    ^\n    \":\"~first a0:string x0;                                                / attr lookup and possible call\n\u001b[0m",
      "\u001b[0;31m  [3]  /home/mlteam/q/p.q:39: .p.i.wf:{[f;x]embedPy[f;x]}\n                                            ^\n\u001b[0m",
      "\u001b[0;31m  [2]  {plt[`:scatter][;]. flip x}\n                         ^\n\u001b[0m",
      "\u001b[0;31m  [1]  (.q.each)\n\n\u001b[0m",
      "\u001b[0;31m  [0]  {plt[`:scatter][;]. flip x}each r2;\n                                  ^\n\u001b[0m"
     ]
    }
   ],
   "source": [
    "\\l clust.q\n",
    "\\ts r2:.clust.hc[d2;5;`edist;`ward]\n",
    "r2\n",
    "{plt[`:scatter][;]. flip x}each r2;\n",
    "plt[`:show][];"
   ]
  },
  {
   "cell_type": "markdown",
   "metadata": {},
   "source": [
    "### Example 3"
   ]
  },
  {
   "cell_type": "code",
   "execution_count": null,
   "metadata": {},
   "outputs": [],
   "source": [
    "datapts:1000\n",
    "dsc:{[n;r;s](r+n?s-r)*/:(cos;sin)@\\:4*n?acos 0}\n",
    "data :flip(-5 1)+(1 1.5)*dsc[1000; 0;1.8],'dsc[2000;3.1;4.2],'dsc[4000;5.2;6.5]\n",
    "data,:flip(4 -1)+(1 8)*dsc[4000; 0;1.]\n",
    "data@:neg[datapts&count data]?count data\n",
    "d3:data\n",
    "plt[`:scatter][;]. flip d3;\n",
    "plt[`:show][];"
   ]
  },
  {
   "cell_type": "code",
   "execution_count": null,
   "metadata": {},
   "outputs": [],
   "source": [
    "\\ts r3:.clust.hc[d3;4;.clust.edist2;`single]\n",
    "{plt[`:scatter][;]. flip x}each r3;\n",
    "plt[`:show][];"
   ]
  },
  {
   "cell_type": "markdown",
   "metadata": {},
   "source": [
    "### Example 4"
   ]
  },
  {
   "cell_type": "code",
   "execution_count": null,
   "metadata": {},
   "outputs": [],
   "source": [
    "fcps:.p.import[`pyclustering.samples.definitions]`:FCPS_SAMPLES\n",
    "read:.p.import[`pyclustering.utils]`:read_sample\n",
    "d4:read[fcps`:SAMPLE_TARGET]`\n",
    "plt[`:scatter][;]. flip d4;\n",
    "plt[`:show][];"
   ]
  },
  {
   "cell_type": "code",
   "execution_count": null,
   "metadata": {},
   "outputs": [],
   "source": [
    "\\ts r4:.clust.hc[d4;6;.clust.edist2;`single]\n",
    "{plt[`:scatter][;]. flip x}each r4;\n",
    "plt[`:show][];"
   ]
  },
  {
   "cell_type": "markdown",
   "metadata": {},
   "source": [
    "### Example 5 - 3D"
   ]
  },
  {
   "cell_type": "code",
   "execution_count": null,
   "metadata": {},
   "outputs": [],
   "source": [
    "d5:read[fcps`:SAMPLE_CHAINLINK]`\n",
    ".p.import[`mpl_toolkits.mplot3d]`:Axes3D;\n",
    "fig:plt[`:figure][];\n",
    "ax:fig[`:add_subplot][111;`projection pykw\"3d\"];\n",
    "ax[`:scatter][;;]. flip d5;\n",
    "plt[`:show][];"
   ]
  },
  {
   "cell_type": "code",
   "execution_count": null,
   "metadata": {},
   "outputs": [],
   "source": [
    "\\ts r5:.clust.hc[d5;2;.clust.edist2;`single]\n",
    "fig:plt[`:figure][];\n",
    "ax:fig[`:add_subplot][111;`projection pykw\"3d\"];\n",
    "{ax[`:scatter][;;]. flip x}each r5;\n",
    "plt[`:show][];"
   ]
  }
 ],
 "metadata": {
  "kernelspec": {
   "display_name": "Q (kdb+)",
   "language": "q",
   "name": "qpk"
  },
  "language_info": {
   "file_extension": ".q",
   "mimetype": "text/x-q",
   "name": "q",
   "version": "3.6.0"
  }
 },
 "nbformat": 4,
 "nbformat_minor": 2
}
